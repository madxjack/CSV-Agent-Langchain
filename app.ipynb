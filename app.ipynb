{
 "cells": [
  {
   "cell_type": "code",
   "execution_count": null,
   "metadata": {},
   "outputs": [],
   "source": [
    "%pip install pandas langchain_experimental langchain_openai tabulate load_dotenv"
   ]
  },
  {
   "cell_type": "code",
   "execution_count": null,
   "metadata": {},
   "outputs": [],
   "source": [
    "import pandas as pd\n",
    "\n",
    "df = pd.read_csv(\"podcasts.csv\")\n",
    "\n",
    "df.head()"
   ]
  },
  {
   "cell_type": "code",
   "execution_count": 66,
   "metadata": {},
   "outputs": [],
   "source": [
    "from dotenv import load_dotenv\n",
    "import os\n",
    "\n",
    "load_dotenv()\n",
    "\n",
    "api_key = os.getenv(\"OPENAI_API_KEY\")"
   ]
  },
  {
   "cell_type": "code",
   "execution_count": 65,
   "metadata": {},
   "outputs": [],
   "source": [
    "from langchain_openai import ChatOpenAI\n",
    "\n",
    "llm = ChatOpenAI(api_key=api_key, model=\"gpt-3.5-turbo\", temperature=0)"
   ]
  },
  {
   "cell_type": "code",
   "execution_count": 64,
   "metadata": {},
   "outputs": [],
   "source": [
    "from langchain_experimental.agents.agent_toolkits import create_csv_agent\n",
    "\n",
    "agent = create_csv_agent(llm, \"podcasts.csv\", verbose=True, allow_dangerous_code=True)"
   ]
  },
  {
   "cell_type": "code",
   "execution_count": 71,
   "metadata": {},
   "outputs": [
    {
     "name": "stdout",
     "output_type": "stream",
     "text": [
      "\n",
      "\n",
      "\u001b[1m> Entering new AgentExecutor chain...\u001b[0m\n",
      "\u001b[32;1m\u001b[1;3mThought: We need to find the row in the dataframe where the podcast_number is 110 and then extract the podcast_name.\n",
      "Action: python_repl_ast\n",
      "Action Input: df[df['podcast_number'] == 110]['podcast_name']\u001b[0m\u001b[36;1m\u001b[1;3m221    De Abiquo a Bwom con Helena Torras - Podcast 110\n",
      "Name: podcast_name, dtype: object\u001b[0m\u001b[32;1m\u001b[1;3mThe name of podcast 110 is \"De Abiquo a Bwom con Helena Torras - Podcast 110\"\n",
      "Final Answer: De Abiquo a Bwom con Helena Torras - Podcast 110\u001b[0m\n",
      "\n",
      "\u001b[1m> Finished chain.\u001b[0m\n"
     ]
    },
    {
     "data": {
      "text/plain": [
       "{'input': 'Cual es el nombre del podcast 110',\n",
       " 'output': 'De Abiquo a Bwom con Helena Torras - Podcast 110'}"
      ]
     },
     "execution_count": 71,
     "metadata": {},
     "output_type": "execute_result"
    }
   ],
   "source": [
    "agent.invoke(\"Cual es el nombre del podcast 110\")"
   ]
  },
  {
   "cell_type": "code",
   "execution_count": 72,
   "metadata": {},
   "outputs": [
    {
     "data": {
      "text/plain": [
       "221    De Abiquo a Bwom con Helena Torras - Podcast 110\n",
       "Name: podcast_name, dtype: object"
      ]
     },
     "execution_count": 72,
     "metadata": {},
     "output_type": "execute_result"
    }
   ],
   "source": [
    "df[df['podcast_number'] == 110]['podcast_name']"
   ]
  },
  {
   "cell_type": "code",
   "execution_count": 73,
   "metadata": {},
   "outputs": [
    {
     "name": "stdout",
     "output_type": "stream",
     "text": [
      "\n",
      "\n",
      "\u001b[1m> Entering new AgentExecutor chain...\u001b[0m\n",
      "\u001b[32;1m\u001b[1;3mThought: We need to find the row in the dataframe where the podcast_number is 333 and then extract the description.\n",
      "Action: python_repl_ast\n",
      "Action Input: df[df['podcast_number'] == 333]['description'].values[0]\u001b[0m\u001b[36;1m\u001b[1;3mPatrocinado por Factorial:\n",
      "Estudio digitalización de PYMES en el 2024: https://goo.su/6pYks\n",
      "\n",
      "En este episodio del podcast, Unai Ansejo, cofundador de Indexa Capital, nos ofrece una guía completa sobre opciones de inversión, ideal tanto para principiantes como para inversores experimentados. Con más de €2.5 mil millones en activos gestionados y 80,000 clientes, Indexa Capital se ha consolidado como el mayor gestor de fondos indexados en España y uno de los más grandes de Europa.\n",
      "\n",
      "Unai comparte su experiencia personal y profesional, desde sus inicios en el departamento de tesorería de BBVA hasta su transición al mundo de la banca privada y, finalmente, a la creación de Indexa Capital. Discute las diferencias fundamentales entre los bancos comerciales y privados, y la importancia de la confianza y las relaciones en el sector financiero.\n",
      "\n",
      "En el podcast hablamos de temas esenciales como la facilidad de crear una cartera de inversión diversificada, los beneficios de los planes de ahorro individuales en España, y los límites y ventajas de los planes de empleo. Unai también explica los riesgos y retornos asociados con los fondos indexados, destacando su historial de rentabilidad y la importancia de la diversificación.\n",
      "\n",
      "Además, se analizan las estrategias de crecimiento y transparencia de Indexa Capital, incluyendo su expansión a mercados internacionales y la adquisición de empresas en Europa. Unai enfatiza la importancia de la transparencia y el control financiero, tanto para la empresa como para sus clientes.\n",
      "\n",
      "A lo largo del episodio, Unai ofrece consejos prácticos sobre cómo manejar las inversiones, la relevancia de conocer a los gestores de tus fondos y la importancia de tener una visión a largo plazo. Con testimonios personales y recomendaciones de recursos adicionales, este episodio es una guía imprescindible para quienes buscan invertir de manera inteligente y segura.\n",
      "\n",
      "Web de Indexa Capital:\n",
      "https://indexacapital.com/es/esp/\n",
      "\n",
      "\u001b[0m\u001b[32;1m\u001b[1;3mI now know the final answer\n",
      "Final Answer: The description of podcast 333 is about investment options, the experience of Unai Ansejo, co-founder of Indexa Capital, and essential topics related to investment diversification, savings plans, risks and returns associated with indexed funds, growth strategies of Indexa Capital, and practical advice on investment management.\u001b[0m\n",
      "\n",
      "\u001b[1m> Finished chain.\u001b[0m\n"
     ]
    },
    {
     "data": {
      "text/plain": [
       "{'input': 'Cual es la descripcion del podcast 333?',\n",
       " 'output': 'The description of podcast 333 is about investment options, the experience of Unai Ansejo, co-founder of Indexa Capital, and essential topics related to investment diversification, savings plans, risks and returns associated with indexed funds, growth strategies of Indexa Capital, and practical advice on investment management.'}"
      ]
     },
     "execution_count": 73,
     "metadata": {},
     "output_type": "execute_result"
    }
   ],
   "source": [
    "agent.invoke(\"Cual es la descripcion del podcast 333?\")"
   ]
  },
  {
   "cell_type": "code",
   "execution_count": 74,
   "metadata": {},
   "outputs": [
    {
     "data": {
      "text/plain": [
       "'Patrocinado por Factorial:\\nEstudio digitalización de PYMES en el 2024: https://goo.su/6pYks\\n\\nEn este episodio del podcast, Unai Ansejo, cofundador de Indexa Capital, nos ofrece una guía completa sobre opciones de inversión, ideal tanto para principiantes como para inversores experimentados. Con más de €2.5 mil millones en activos gestionados y 80,000 clientes, Indexa Capital se ha consolidado como el mayor gestor de fondos indexados en España y uno de los más grandes de Europa.\\n\\nUnai comparte su experiencia personal y profesional, desde sus inicios en el departamento de tesorería de BBVA hasta su transición al mundo de la banca privada y, finalmente, a la creación de Indexa Capital. Discute las diferencias fundamentales entre los bancos comerciales y privados, y la importancia de la confianza y las relaciones en el sector financiero.\\n\\nEn el podcast hablamos de temas esenciales como la facilidad de crear una cartera de inversión diversificada, los beneficios de los planes de ahorro individuales en España, y los límites y ventajas de los planes de empleo. Unai también explica los riesgos y retornos asociados con los fondos indexados, destacando su historial de rentabilidad y la importancia de la diversificación.\\n\\nAdemás, se analizan las estrategias de crecimiento y transparencia de Indexa Capital, incluyendo su expansión a mercados internacionales y la adquisición de empresas en Europa. Unai enfatiza la importancia de la transparencia y el control financiero, tanto para la empresa como para sus clientes.\\n\\nA lo largo del episodio, Unai ofrece consejos prácticos sobre cómo manejar las inversiones, la relevancia de conocer a los gestores de tus fondos y la importancia de tener una visión a largo plazo. Con testimonios personales y recomendaciones de recursos adicionales, este episodio es una guía imprescindible para quienes buscan invertir de manera inteligente y segura.\\n\\nWeb de Indexa Capital:\\nhttps://indexacapital.com/es/esp/\\n\\n'"
      ]
     },
     "execution_count": 74,
     "metadata": {},
     "output_type": "execute_result"
    }
   ],
   "source": [
    "df[df['podcast_number'] == 333]['description'].values[0]\n"
   ]
  }
 ],
 "metadata": {
  "language_info": {
   "name": "python"
  }
 },
 "nbformat": 4,
 "nbformat_minor": 2
}
